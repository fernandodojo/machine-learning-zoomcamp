{
 "cells": [
  {
   "cell_type": "code",
   "execution_count": 8,
   "id": "f4f1d985-b7e0-4b8b-a4a5-4c02f4b7db0f",
   "metadata": {},
   "outputs": [],
   "source": [
    "import pandas as pd\n",
    "import numpy as np"
   ]
  },
  {
   "cell_type": "code",
   "execution_count": 9,
   "id": "b020caaa-4b6d-4336-8cdf-4ad077b92154",
   "metadata": {
    "tags": []
   },
   "outputs": [
    {
     "data": {
      "text/plain": [
       "'1.5.3'"
      ]
     },
     "execution_count": 9,
     "metadata": {},
     "output_type": "execute_result"
    }
   ],
   "source": [
    "# Question 1\n",
    "# What's the version of Pandas that you installed?\n",
    "\n",
    "pd.__version__"
   ]
  },
  {
   "cell_type": "code",
   "execution_count": 10,
   "id": "4664c535-9821-4c7e-907b-a25df4ccff58",
   "metadata": {
    "tags": []
   },
   "outputs": [
    {
     "data": {
      "text/plain": [
       "10"
      ]
     },
     "execution_count": 10,
     "metadata": {},
     "output_type": "execute_result"
    }
   ],
   "source": [
    "# Question 2\n",
    "# How many columns are in the dataset?\n",
    "\n",
    "\n",
    "df = pd.read_csv('housing.csv')\n",
    "\n",
    "# df.head()\n",
    "# len(df.dtypes)\n",
    "df.shape[1]"
   ]
  },
  {
   "cell_type": "code",
   "execution_count": 11,
   "id": "6c6a18df-740c-4533-b9d0-72c0e1a0b2d0",
   "metadata": {
    "tags": []
   },
   "outputs": [
    {
     "data": {
      "text/plain": [
       "longitude               0\n",
       "latitude                0\n",
       "housing_median_age      0\n",
       "total_rooms             0\n",
       "total_bedrooms        207\n",
       "population              0\n",
       "households              0\n",
       "median_income           0\n",
       "median_house_value      0\n",
       "ocean_proximity         0\n",
       "dtype: int64"
      ]
     },
     "execution_count": 11,
     "metadata": {},
     "output_type": "execute_result"
    }
   ],
   "source": [
    "# Question 3\n",
    "# Which columns in the dataset have missing values?\n",
    "\n",
    "df.isnull().sum()"
   ]
  },
  {
   "cell_type": "code",
   "execution_count": 12,
   "id": "2f511464-3355-4dd1-bbee-e2986f514931",
   "metadata": {
    "tags": []
   },
   "outputs": [
    {
     "data": {
      "text/plain": [
       "5"
      ]
     },
     "execution_count": 12,
     "metadata": {},
     "output_type": "execute_result"
    }
   ],
   "source": [
    "# Question 4\n",
    "# How many unique values does the ocean_proximity column have?\n",
    "\n",
    "df['ocean_proximity'].nunique()"
   ]
  },
  {
   "cell_type": "code",
   "execution_count": 13,
   "id": "dc845aea-0dce-4e75-b51b-774ad404233a",
   "metadata": {
    "tags": []
   },
   "outputs": [
    {
     "data": {
      "text/plain": [
       "259212.31179039303"
      ]
     },
     "execution_count": 13,
     "metadata": {},
     "output_type": "execute_result"
    }
   ],
   "source": [
    "# Question 5\n",
    "# What's the average value of the median_house_value for the houses located near the bay?\n",
    "\n",
    "# df[df['ocean_proximity'] == \"NEAR BAY\"]\n",
    "# df[df['ocean_proximity'] == \"NEAR BAY\"]['median_house_value']\n",
    "# df[df['ocean_proximity'] == \"NEAR BAY\"]['median_house_value'].mean()\n",
    "\n",
    "avr_value = df.groupby('ocean_proximity').median_house_value.mean()\n",
    "avr_value['NEAR BAY']"
   ]
  },
  {
   "cell_type": "code",
   "execution_count": 25,
   "id": "cf922a6f-d720-4357-8720-5925e4eaea89",
   "metadata": {
    "tags": []
   },
   "outputs": [
    {
     "name": "stdout",
     "output_type": "stream",
     "text": [
      "avg_total_bedrooms: 537.8705525375618\n",
      "avg_total_bedrooms_filled: 537.8705525375617\n",
      "\n",
      "Has it changed? (only 3 digits): False\n",
      "Average of 'total_bedrooms': 537.871\n",
      "Average of 'total_bedrooms' after fillna: 537.871 \n"
     ]
    }
   ],
   "source": [
    "# Question 6\n",
    "\n",
    "#     Calculate the average of total_bedrooms column in the dataset.\n",
    "#     Use the fillna method to fill the missing values in total_bedrooms with the mean value from the previous step.\n",
    "#     Now, calculate the average of total_bedrooms again.\n",
    "#     Has it changed?\n",
    "\n",
    "# Has it changed?\n",
    "\n",
    "#     Hint: take into account only 3 digits after the decimal point.\n",
    "\n",
    "\n",
    "avg_total_bedrooms = df['total_bedrooms'].mean()\n",
    "print(\"avg_total_bedrooms:\", avg_total_bedrooms)\n",
    "\n",
    "df_filled = df['total_bedrooms'].fillna(avg_total_bedrooms)\n",
    "avg_total_bedrooms_filled = df_filled.mean()\n",
    "print(\"avg_total_bedrooms_filled:\", avg_total_bedrooms_filled)\n",
    "\n",
    "avg_total_bedrooms = float(\"{:.3f}\".format(avg_total_bedrooms))\n",
    "avg_total_bedrooms_filled = float(\"{:.3f}\".format(avg_total_bedrooms_filled))\n",
    "\n",
    "print(\"\\nHas it changed? (only 3 digits): {}\\nAverage of 'total_bedrooms': {}\\nAverage of 'total_bedrooms' after fillna: {} \".format(avg_total_bedrooms != avg_total_bedrooms_filled, avg_total_bedrooms, avg_total_bedrooms_filled))"
   ]
  },
  {
   "cell_type": "code",
   "execution_count": 36,
   "id": "a74360fa-f173-4b7f-85b5-11ce8116382a",
   "metadata": {
    "tags": []
   },
   "outputs": [
    {
     "data": {
      "text/html": [
       "<div>\n",
       "<style scoped>\n",
       "    .dataframe tbody tr th:only-of-type {\n",
       "        vertical-align: middle;\n",
       "    }\n",
       "\n",
       "    .dataframe tbody tr th {\n",
       "        vertical-align: top;\n",
       "    }\n",
       "\n",
       "    .dataframe thead th {\n",
       "        text-align: right;\n",
       "    }\n",
       "</style>\n",
       "<table border=\"1\" class=\"dataframe\">\n",
       "  <thead>\n",
       "    <tr style=\"text-align: right;\">\n",
       "      <th></th>\n",
       "      <th>housing_median_age</th>\n",
       "      <th>total_rooms</th>\n",
       "      <th>total_bedrooms</th>\n",
       "    </tr>\n",
       "  </thead>\n",
       "  <tbody>\n",
       "    <tr>\n",
       "      <th>8314</th>\n",
       "      <td>27.0</td>\n",
       "      <td>1675.0</td>\n",
       "      <td>521.0</td>\n",
       "    </tr>\n",
       "    <tr>\n",
       "      <th>8315</th>\n",
       "      <td>52.0</td>\n",
       "      <td>2359.0</td>\n",
       "      <td>591.0</td>\n",
       "    </tr>\n",
       "    <tr>\n",
       "      <th>8316</th>\n",
       "      <td>52.0</td>\n",
       "      <td>2127.0</td>\n",
       "      <td>512.0</td>\n",
       "    </tr>\n",
       "    <tr>\n",
       "      <th>8317</th>\n",
       "      <td>52.0</td>\n",
       "      <td>996.0</td>\n",
       "      <td>264.0</td>\n",
       "    </tr>\n",
       "    <tr>\n",
       "      <th>8318</th>\n",
       "      <td>29.0</td>\n",
       "      <td>716.0</td>\n",
       "      <td>214.0</td>\n",
       "    </tr>\n",
       "  </tbody>\n",
       "</table>\n",
       "</div>"
      ],
      "text/plain": [
       "      housing_median_age  total_rooms  total_bedrooms\n",
       "8314                27.0       1675.0           521.0\n",
       "8315                52.0       2359.0           591.0\n",
       "8316                52.0       2127.0           512.0\n",
       "8317                52.0        996.0           264.0\n",
       "8318                29.0        716.0           214.0"
      ]
     },
     "execution_count": 36,
     "metadata": {},
     "output_type": "execute_result"
    }
   ],
   "source": [
    "# Question 7\n",
    "\n",
    "#     Select all the options located on islands.\n",
    "#     Select only columns housing_median_age, total_rooms, total_bedrooms.\n",
    "#     Get the underlying NumPy array. Let's call it X.\n",
    "#     Compute matrix-matrix multiplication between the transpose of X and X. To get the transpose, use X.T. Let's call the result XTX.\n",
    "#     Compute the inverse of XTX.\n",
    "#     Create an array y with values [950, 1300, 800, 1000, 1300].\n",
    "#     Multiply the inverse of XTX with the transpose of X, and then multiply the result by y. Call the result w.\n",
    "#     What's the value of the last element of w?\n",
    "\n",
    "#     Note: You just implemented linear regression. We'll talk about it in the next lesson.\n",
    "\n",
    "#     -1.4812\n",
    "#     0.001\n",
    "#     5.6992\n",
    "#     23.1233\n",
    "\n",
    "\n",
    "df.ocean_proximity.value_counts()\n",
    "df_island = df[df['ocean_proximity'] == \"ISLAND\"]\n",
    "df_island = df_island[['housing_median_age', 'total_rooms', 'total_bedrooms']]\n",
    "df_island\n",
    "\n",
    "\n",
    "\n"
   ]
  },
  {
   "cell_type": "code",
   "execution_count": 37,
   "id": "e85d942c-7644-4618-9116-56db7fb10e72",
   "metadata": {
    "tags": []
   },
   "outputs": [
    {
     "data": {
      "text/plain": [
       "array([[  27., 1675.,  521.],\n",
       "       [  52., 2359.,  591.],\n",
       "       [  52., 2127.,  512.],\n",
       "       [  52.,  996.,  264.],\n",
       "       [  29.,  716.,  214.]])"
      ]
     },
     "execution_count": 37,
     "metadata": {},
     "output_type": "execute_result"
    }
   ],
   "source": [
    "X = df_island.values\n",
    "X"
   ]
  },
  {
   "cell_type": "code",
   "execution_count": 41,
   "id": "ce8010c2-af52-422e-b537-cf7da808b70f",
   "metadata": {
    "tags": []
   },
   "outputs": [
    {
     "data": {
      "text/plain": [
       "array([[9.6820000e+03, 3.5105300e+05, 9.1357000e+04],\n",
       "       [3.5105300e+05, 1.4399307e+07, 3.7720360e+06],\n",
       "       [9.1357000e+04, 3.7720360e+06, 9.9835800e+05]])"
      ]
     },
     "execution_count": 41,
     "metadata": {},
     "output_type": "execute_result"
    }
   ],
   "source": [
    "XTX = X.T.dot(X)\n",
    "XTX"
   ]
  },
  {
   "cell_type": "code",
   "execution_count": 42,
   "id": "f404a30e-d9ab-4c61-88a3-0c289b28a085",
   "metadata": {
    "tags": []
   },
   "outputs": [
    {
     "data": {
      "text/plain": [
       "array([[ 9.19403586e-04, -3.66412216e-05,  5.43072261e-05],\n",
       "       [-3.66412216e-05,  8.23303633e-06, -2.77534485e-05],\n",
       "       [ 5.43072261e-05, -2.77534485e-05,  1.00891325e-04]])"
      ]
     },
     "execution_count": 42,
     "metadata": {},
     "output_type": "execute_result"
    }
   ],
   "source": [
    "XTX_inv = np.linalg.inv(XTX)\n",
    "XTX_inv"
   ]
  },
  {
   "cell_type": "code",
   "execution_count": 43,
   "id": "5e31c579-fd59-4fda-90af-b270b31144d8",
   "metadata": {
    "tags": []
   },
   "outputs": [
    {
     "data": {
      "text/plain": [
       "array([ 950, 1300,  800, 1000, 1300])"
      ]
     },
     "execution_count": 43,
     "metadata": {},
     "output_type": "execute_result"
    }
   ],
   "source": [
    "y = np.array([950, 1300, 800, 1000, 1300])\n",
    "y"
   ]
  },
  {
   "cell_type": "code",
   "execution_count": 47,
   "id": "7540aeb1-796c-457d-9f75-2278588cc894",
   "metadata": {
    "tags": []
   },
   "outputs": [
    {
     "data": {
      "text/plain": [
       "array([23.12330961, -1.48124183,  5.69922946])"
      ]
     },
     "execution_count": 47,
     "metadata": {},
     "output_type": "execute_result"
    }
   ],
   "source": [
    "w = (XTX_inv.dot(X.T)).dot(y)\n",
    "w"
   ]
  },
  {
   "cell_type": "code",
   "execution_count": 48,
   "id": "8d1bd2a1-ad31-4656-86d9-90b107960e4b",
   "metadata": {
    "tags": []
   },
   "outputs": [
    {
     "data": {
      "text/plain": [
       "5.699229455065575"
      ]
     },
     "execution_count": 48,
     "metadata": {},
     "output_type": "execute_result"
    }
   ],
   "source": [
    "w[-1]"
   ]
  }
 ],
 "metadata": {
  "kernelspec": {
   "display_name": "Python 3 (ipykernel)",
   "language": "python",
   "name": "python3"
  },
  "language_info": {
   "codemirror_mode": {
    "name": "ipython",
    "version": 3
   },
   "file_extension": ".py",
   "mimetype": "text/x-python",
   "name": "python",
   "nbconvert_exporter": "python",
   "pygments_lexer": "ipython3",
   "version": "3.11.4"
  }
 },
 "nbformat": 4,
 "nbformat_minor": 5
}
